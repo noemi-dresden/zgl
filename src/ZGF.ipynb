{
 "cells": [
  {
   "cell_type": "markdown",
   "metadata": {},
   "source": [
    "# ZGL Statistics\n",
    "This document contains analytics samples from ZGL data.\n",
    "\n",
    "## Import required data"
   ]
  },
  {
   "cell_type": "code",
   "execution_count": 6,
   "metadata": {},
   "outputs": [
    {
     "data": {
      "text/html": [
       "        <script type=\"text/javascript\">\n",
       "        window.PlotlyConfig = {MathJaxConfig: 'local'};\n",
       "        if (window.MathJax) {MathJax.Hub.Config({SVG: {font: \"STIX-Web\"}});}\n",
       "        if (typeof require !== 'undefined') {\n",
       "        require.undef(\"plotly\");\n",
       "        requirejs.config({\n",
       "            paths: {\n",
       "                'plotly': ['https://cdn.plot.ly/plotly-latest.min']\n",
       "            }\n",
       "        });\n",
       "        require(['plotly'], function(Plotly) {\n",
       "            window._Plotly = Plotly;\n",
       "        });\n",
       "        }\n",
       "        </script>\n",
       "        "
      ]
     },
     "metadata": {},
     "output_type": "display_data"
    },
    {
     "data": {
      "text/html": [
       "        <script type=\"text/javascript\">\n",
       "        window.PlotlyConfig = {MathJaxConfig: 'local'};\n",
       "        if (window.MathJax) {MathJax.Hub.Config({SVG: {font: \"STIX-Web\"}});}\n",
       "        if (typeof require !== 'undefined') {\n",
       "        require.undef(\"plotly\");\n",
       "        requirejs.config({\n",
       "            paths: {\n",
       "                'plotly': ['https://cdn.plot.ly/plotly-latest.min']\n",
       "            }\n",
       "        });\n",
       "        require(['plotly'], function(Plotly) {\n",
       "            window._Plotly = Plotly;\n",
       "        });\n",
       "        }\n",
       "        </script>\n",
       "        "
      ]
     },
     "metadata": {},
     "output_type": "display_data"
    },
    {
     "data": {
      "text/html": [
       "<div>\n",
       "<style scoped>\n",
       "    .dataframe tbody tr th:only-of-type {\n",
       "        vertical-align: middle;\n",
       "    }\n",
       "\n",
       "    .dataframe tbody tr th {\n",
       "        vertical-align: top;\n",
       "    }\n",
       "\n",
       "    .dataframe thead th {\n",
       "        text-align: right;\n",
       "    }\n",
       "</style>\n",
       "<table border=\"1\" class=\"dataframe\">\n",
       "  <thead>\n",
       "    <tr style=\"text-align: right;\">\n",
       "      <th></th>\n",
       "      <th>Name</th>\n",
       "      <th>Vorname</th>\n",
       "      <th>Zeit</th>\n",
       "      <th>Geschlecht</th>\n",
       "      <th>Strecke</th>\n",
       "      <th>Route</th>\n",
       "      <th>Lauf</th>\n",
       "      <th>Jahr</th>\n",
       "    </tr>\n",
       "  </thead>\n",
       "  <tbody>\n",
       "    <tr>\n",
       "      <th>0</th>\n",
       "      <td>Krüger</td>\n",
       "      <td>Michael</td>\n",
       "      <td>00:11:04</td>\n",
       "      <td>m</td>\n",
       "      <td>k</td>\n",
       "      <td>N</td>\n",
       "      <td>1</td>\n",
       "      <td>1995</td>\n",
       "    </tr>\n",
       "    <tr>\n",
       "      <th>1</th>\n",
       "      <td>Krüger</td>\n",
       "      <td>Stefan</td>\n",
       "      <td>00:11:17</td>\n",
       "      <td>m</td>\n",
       "      <td>k</td>\n",
       "      <td>N</td>\n",
       "      <td>1</td>\n",
       "      <td>1995</td>\n",
       "    </tr>\n",
       "    <tr>\n",
       "      <th>2</th>\n",
       "      <td>Schwuchow</td>\n",
       "      <td>Denis</td>\n",
       "      <td>00:12:03</td>\n",
       "      <td>m</td>\n",
       "      <td>k</td>\n",
       "      <td>N</td>\n",
       "      <td>1</td>\n",
       "      <td>1995</td>\n",
       "    </tr>\n",
       "  </tbody>\n",
       "</table>\n",
       "</div>"
      ],
      "text/plain": [
       "        Name  Vorname      Zeit Geschlecht Strecke Route  Lauf  Jahr\n",
       "0     Krüger  Michael  00:11:04          m       k     N     1  1995\n",
       "1     Krüger   Stefan  00:11:17          m       k     N     1  1995\n",
       "2  Schwuchow    Denis  00:12:03          m       k     N     1  1995"
      ]
     },
     "execution_count": 6,
     "metadata": {},
     "output_type": "execute_result"
    }
   ],
   "source": [
    "import pandas as pd\n",
    "import plotly.plotly as py\n",
    "from plotly.offline import iplot, init_notebook_mode\n",
    "\n",
    "# Using plotly + cufflinks in offline mode\n",
    "import cufflinks\n",
    "\n",
    "cufflinks.go_offline(connected=True)\n",
    "init_notebook_mode(connected=True)\n",
    "\n",
    "%matplotlib inline\n",
    "\n",
    "df = pd.read_excel(\"/home/data.xlsx\")\n",
    "df.head(3)"
   ]
  },
  {
   "cell_type": "markdown",
   "metadata": {},
   "source": [
    "## Clean Data\n",
    "Delete all entry without Time"
   ]
  },
  {
   "cell_type": "code",
   "execution_count": 2,
   "metadata": {
    "scrolled": true
   },
   "outputs": [
    {
     "data": {
      "text/html": [
       "<div>\n",
       "<style scoped>\n",
       "    .dataframe tbody tr th:only-of-type {\n",
       "        vertical-align: middle;\n",
       "    }\n",
       "\n",
       "    .dataframe tbody tr th {\n",
       "        vertical-align: top;\n",
       "    }\n",
       "\n",
       "    .dataframe thead th {\n",
       "        text-align: right;\n",
       "    }\n",
       "</style>\n",
       "<table border=\"1\" class=\"dataframe\">\n",
       "  <thead>\n",
       "    <tr style=\"text-align: right;\">\n",
       "      <th></th>\n",
       "      <th>Name</th>\n",
       "      <th>Vorname</th>\n",
       "      <th>Zeit</th>\n",
       "      <th>Geschlecht</th>\n",
       "      <th>Strecke</th>\n",
       "      <th>Route</th>\n",
       "      <th>Lauf</th>\n",
       "      <th>Jahr</th>\n",
       "    </tr>\n",
       "  </thead>\n",
       "  <tbody>\n",
       "    <tr>\n",
       "      <th>0</th>\n",
       "      <td>Krüger</td>\n",
       "      <td>Michael</td>\n",
       "      <td>00:11:04</td>\n",
       "      <td>m</td>\n",
       "      <td>k</td>\n",
       "      <td>N</td>\n",
       "      <td>1</td>\n",
       "      <td>1995</td>\n",
       "    </tr>\n",
       "    <tr>\n",
       "      <th>1</th>\n",
       "      <td>Krüger</td>\n",
       "      <td>Stefan</td>\n",
       "      <td>00:11:17</td>\n",
       "      <td>m</td>\n",
       "      <td>k</td>\n",
       "      <td>N</td>\n",
       "      <td>1</td>\n",
       "      <td>1995</td>\n",
       "    </tr>\n",
       "    <tr>\n",
       "      <th>2</th>\n",
       "      <td>Schwuchow</td>\n",
       "      <td>Denis</td>\n",
       "      <td>00:12:03</td>\n",
       "      <td>m</td>\n",
       "      <td>k</td>\n",
       "      <td>N</td>\n",
       "      <td>1</td>\n",
       "      <td>1995</td>\n",
       "    </tr>\n",
       "    <tr>\n",
       "      <th>3</th>\n",
       "      <td>Brix</td>\n",
       "      <td>Alexander</td>\n",
       "      <td>00:12:20</td>\n",
       "      <td>m</td>\n",
       "      <td>k</td>\n",
       "      <td>N</td>\n",
       "      <td>1</td>\n",
       "      <td>1995</td>\n",
       "    </tr>\n",
       "  </tbody>\n",
       "</table>\n",
       "</div>"
      ],
      "text/plain": [
       "        Name    Vorname      Zeit Geschlecht Strecke Route  Lauf  Jahr\n",
       "0     Krüger    Michael  00:11:04          m       k     N     1  1995\n",
       "1     Krüger     Stefan  00:11:17          m       k     N     1  1995\n",
       "2  Schwuchow      Denis  00:12:03          m       k     N     1  1995\n",
       "3       Brix  Alexander  00:12:20          m       k     N     1  1995"
      ]
     },
     "execution_count": 2,
     "metadata": {},
     "output_type": "execute_result"
    }
   ],
   "source": [
    "df = df[(df.Zeit != \"DNF\") & (df.Zeit != 0)]\n",
    "df.head(4)\n"
   ]
  },
  {
   "cell_type": "markdown",
   "metadata": {},
   "source": [
    "## Participants statistics\n",
    "### Yearly participation"
   ]
  },
  {
   "cell_type": "code",
   "execution_count": 3,
   "metadata": {},
   "outputs": [
    {
     "data": {
      "application/vnd.plotly.v1+json": {
       "config": {
        "linkText": "Export to plot.ly",
        "plotlyServerURL": "https://plot.ly",
        "showLink": true
       },
       "data": [
        {
         "line": {
          "color": "rgba(255, 153, 51, 1.0)",
          "dash": "solid",
          "shape": "linear",
          "width": 1.3
         },
         "marker": {
          "size": 12,
          "symbol": "circle"
         },
         "mode": "lines+markers+text",
         "name": "None",
         "text": "",
         "type": "scatter",
         "uid": "83772b76-66a0-4bea-a5af-fa7c40ca7a0b",
         "x": [
          1995,
          1996,
          1997,
          1998,
          1999,
          2000,
          2001,
          2002,
          2003,
          2005,
          2006,
          2007
         ],
         "y": [
          30,
          24,
          40,
          54,
          43,
          41,
          46,
          44,
          39,
          38,
          36,
          52
         ]
        }
       ],
       "layout": {
        "legend": {
         "bgcolor": "#F5F6F9",
         "font": {
          "color": "#4D5663"
         }
        },
        "paper_bgcolor": "#F5F6F9",
        "plot_bgcolor": "#F5F6F9",
        "title": {
         "font": {
          "color": "#4D5663"
         },
         "text": "Number of participants since the begining"
        },
        "xaxis": {
         "gridcolor": "#E1E5ED",
         "showgrid": true,
         "tickfont": {
          "color": "#4D5663"
         },
         "title": {
          "font": {
           "color": "#4D5663"
          },
          "text": "Year"
         },
         "zerolinecolor": "#E1E5ED"
        },
        "yaxis": {
         "gridcolor": "#E1E5ED",
         "showgrid": true,
         "tickfont": {
          "color": "#4D5663"
         },
         "title": {
          "font": {
           "color": "#4D5663"
          },
          "text": "Participants"
         },
         "zerolinecolor": "#E1E5ED"
        }
       }
      },
      "text/html": [
       "<div>\n",
       "        \n",
       "        \n",
       "            <div id=\"74aca296-693f-44cf-9819-75149abf0d84\" class=\"plotly-graph-div\" style=\"height:525px; width:100%;\"></div>\n",
       "            <script type=\"text/javascript\">\n",
       "                require([\"plotly\"], function(Plotly) {\n",
       "                    window.PLOTLYENV=window.PLOTLYENV || {};\n",
       "                    window.PLOTLYENV.BASE_URL='https://plot.ly';\n",
       "                    \n",
       "                if (document.getElementById(\"74aca296-693f-44cf-9819-75149abf0d84\")) {\n",
       "                    Plotly.newPlot(\n",
       "                        '74aca296-693f-44cf-9819-75149abf0d84',\n",
       "                        [{\"line\": {\"color\": \"rgba(255, 153, 51, 1.0)\", \"dash\": \"solid\", \"shape\": \"linear\", \"width\": 1.3}, \"marker\": {\"size\": 12, \"symbol\": \"circle\"}, \"mode\": \"lines+markers+text\", \"name\": \"None\", \"text\": \"\", \"type\": \"scatter\", \"uid\": \"83772b76-66a0-4bea-a5af-fa7c40ca7a0b\", \"x\": [1995, 1996, 1997, 1998, 1999, 2000, 2001, 2002, 2003, 2005, 2006, 2007], \"y\": [30, 24, 40, 54, 43, 41, 46, 44, 39, 38, 36, 52]}],\n",
       "                        {\"legend\": {\"bgcolor\": \"#F5F6F9\", \"font\": {\"color\": \"#4D5663\"}}, \"paper_bgcolor\": \"#F5F6F9\", \"plot_bgcolor\": \"#F5F6F9\", \"title\": {\"font\": {\"color\": \"#4D5663\"}, \"text\": \"Number of participants since the begining\"}, \"xaxis\": {\"gridcolor\": \"#E1E5ED\", \"showgrid\": true, \"tickfont\": {\"color\": \"#4D5663\"}, \"title\": {\"font\": {\"color\": \"#4D5663\"}, \"text\": \"Year\"}, \"zerolinecolor\": \"#E1E5ED\"}, \"yaxis\": {\"gridcolor\": \"#E1E5ED\", \"showgrid\": true, \"tickfont\": {\"color\": \"#4D5663\"}, \"title\": {\"font\": {\"color\": \"#4D5663\"}, \"text\": \"Participants\"}, \"zerolinecolor\": \"#E1E5ED\"}},\n",
       "                        {\"showLink\": true, \"linkText\": \"Export to plot.ly\", \"plotlyServerURL\": \"https://plot.ly\", \"responsive\": true}\n",
       "                    ).then(function(){\n",
       "                            \n",
       "var gd = document.getElementById('74aca296-693f-44cf-9819-75149abf0d84');\n",
       "var x = new MutationObserver(function (mutations, observer) {{\n",
       "        var display = window.getComputedStyle(gd).display;\n",
       "        if (!display || display === 'none') {{\n",
       "            console.log([gd, 'removed!']);\n",
       "            Plotly.purge(gd);\n",
       "            observer.disconnect();\n",
       "        }}\n",
       "}});\n",
       "\n",
       "// Listen for the removal of the full notebook cells\n",
       "var notebookContainer = gd.closest('#notebook-container');\n",
       "if (notebookContainer) {{\n",
       "    x.observe(notebookContainer, {childList: true});\n",
       "}}\n",
       "\n",
       "// Listen for the clearing of the current output cell\n",
       "var outputEl = gd.closest('.output');\n",
       "if (outputEl) {{\n",
       "    x.observe(outputEl, {childList: true});\n",
       "}}\n",
       "\n",
       "                        })\n",
       "                };\n",
       "                });\n",
       "            </script>\n",
       "        </div>"
      ]
     },
     "metadata": {},
     "output_type": "display_data"
    }
   ],
   "source": [
    "grouped = df.groupby([\"Jahr\"]).size()\n",
    "# print(grouped)\n",
    "grouped.iplot(mode='lines+markers+text',\n",
    "    opacity=0.8,\n",
    "    xTitle='Year',\n",
    "    yTitle='Participants',\n",
    "    title='Number of participants since the begining')\n",
    "\n"
   ]
  },
  {
   "cell_type": "markdown",
   "metadata": {},
   "source": [
    "## How many men and women each year?"
   ]
  },
  {
   "cell_type": "code",
   "execution_count": 28,
   "metadata": {},
   "outputs": [
    {
     "data": {
      "text/plain": [
       "Jahr  Geschlecht\n",
       "1995  m             20\n",
       "      w             10\n",
       "1996  m             15\n",
       "      w             10\n",
       "1997  m             27\n",
       "      w             14\n",
       "1998  m             38\n",
       "      w             16\n",
       "1999  m             26\n",
       "      w             18\n",
       "2000  m             23\n",
       "      w             18\n",
       "2001  m             32\n",
       "      w             14\n",
       "2002  m             29\n",
       "      w             16\n",
       "2003  m             32\n",
       "      w              8\n",
       "2005  m             25\n",
       "      w             14\n",
       "2006  m             23\n",
       "      w             13\n",
       "2007  m             27\n",
       "      w             25\n",
       "dtype: int64"
      ]
     },
     "execution_count": 28,
     "metadata": {},
     "output_type": "execute_result"
    }
   ],
   "source": [
    "number_of_participants_by_sex = df.groupby([\"Jahr\",\"Geschlecht\"])\n",
    "number_of_participants_by_sex = number_of_participants_by_sex.size()\n",
    "\n",
    "number_of_participants_by_sex"
   ]
  },
  {
   "cell_type": "markdown",
   "metadata": {},
   "source": [
    "## Statistics for all events\n",
    "Sorted with the best record for each year"
   ]
  },
  {
   "cell_type": "code",
   "execution_count": 6,
   "metadata": {
    "scrolled": false
   },
   "outputs": [
    {
     "data": {
      "text/plain": [
       "Jahr  Geschlecht  Strecke  Zeit      Name       Vorname  \n",
       "1995  m           k        00:11:04  Krüger     Michael      1\n",
       "                           00:11:17  Krüger     Stefan       1\n",
       "                           00:12:03  Schwuchow  Denis        1\n",
       "                           00:12:20  Brix       Alexander    1\n",
       "                           00:13:01  Schwuchow  Marcel       1\n",
       "dtype: int64"
      ]
     },
     "execution_count": 6,
     "metadata": {},
     "output_type": "execute_result"
    }
   ],
   "source": [
    "all_in_one = df.groupby([\"Jahr\",\"Geschlecht\",\"Strecke\", \"Zeit\", \"Name\", \"Vorname\"])\n",
    "\n",
    "# Get all statistics for all events\n",
    "all_in_one.size().head(5)"
   ]
  },
  {
   "cell_type": "markdown",
   "metadata": {},
   "source": [
    "## Top x per year, route and sex"
   ]
  },
  {
   "cell_type": "code",
   "execution_count": 21,
   "metadata": {},
   "outputs": [
    {
     "data": {
      "text/html": [
       "<div>\n",
       "<style scoped>\n",
       "    .dataframe tbody tr th:only-of-type {\n",
       "        vertical-align: middle;\n",
       "    }\n",
       "\n",
       "    .dataframe tbody tr th {\n",
       "        vertical-align: top;\n",
       "    }\n",
       "\n",
       "    .dataframe thead th {\n",
       "        text-align: right;\n",
       "    }\n",
       "</style>\n",
       "<table border=\"1\" class=\"dataframe\">\n",
       "  <thead>\n",
       "    <tr style=\"text-align: right;\">\n",
       "      <th></th>\n",
       "      <th>Name</th>\n",
       "      <th>Vorname</th>\n",
       "      <th>Zeit</th>\n",
       "      <th>Geschlecht</th>\n",
       "      <th>Strecke</th>\n",
       "      <th>Route</th>\n",
       "      <th>Lauf</th>\n",
       "      <th>Jahr</th>\n",
       "    </tr>\n",
       "  </thead>\n",
       "  <tbody>\n",
       "    <tr>\n",
       "      <th>281</th>\n",
       "      <td>Koch</td>\n",
       "      <td>Martin</td>\n",
       "      <td>00:10:35</td>\n",
       "      <td>m</td>\n",
       "      <td>k</td>\n",
       "      <td>N</td>\n",
       "      <td>8</td>\n",
       "      <td>2002</td>\n",
       "    </tr>\n",
       "    <tr>\n",
       "      <th>282</th>\n",
       "      <td>Pfeil</td>\n",
       "      <td>Martin</td>\n",
       "      <td>00:10:35</td>\n",
       "      <td>m</td>\n",
       "      <td>k</td>\n",
       "      <td>N</td>\n",
       "      <td>8</td>\n",
       "      <td>2002</td>\n",
       "    </tr>\n",
       "    <tr>\n",
       "      <th>283</th>\n",
       "      <td>Nake</td>\n",
       "      <td>Robert</td>\n",
       "      <td>00:12:06</td>\n",
       "      <td>m</td>\n",
       "      <td>k</td>\n",
       "      <td>N</td>\n",
       "      <td>8</td>\n",
       "      <td>2002</td>\n",
       "    </tr>\n",
       "    <tr>\n",
       "      <th>284</th>\n",
       "      <td>Nake</td>\n",
       "      <td>Dietmar</td>\n",
       "      <td>00:12:51</td>\n",
       "      <td>m</td>\n",
       "      <td>k</td>\n",
       "      <td>N</td>\n",
       "      <td>8</td>\n",
       "      <td>2002</td>\n",
       "    </tr>\n",
       "    <tr>\n",
       "      <th>285</th>\n",
       "      <td>Klein</td>\n",
       "      <td>Axel</td>\n",
       "      <td>00:13:32</td>\n",
       "      <td>m</td>\n",
       "      <td>k</td>\n",
       "      <td>N</td>\n",
       "      <td>8</td>\n",
       "      <td>2002</td>\n",
       "    </tr>\n",
       "    <tr>\n",
       "      <th>286</th>\n",
       "      <td>Nake</td>\n",
       "      <td>Philip</td>\n",
       "      <td>00:13:32</td>\n",
       "      <td>m</td>\n",
       "      <td>k</td>\n",
       "      <td>N</td>\n",
       "      <td>8</td>\n",
       "      <td>2002</td>\n",
       "    </tr>\n",
       "  </tbody>\n",
       "</table>\n",
       "</div>"
      ],
      "text/plain": [
       "      Name  Vorname      Zeit Geschlecht Strecke Route  Lauf  Jahr\n",
       "281   Koch   Martin  00:10:35          m       k     N     8  2002\n",
       "282  Pfeil   Martin  00:10:35          m       k     N     8  2002\n",
       "283   Nake   Robert  00:12:06          m       k     N     8  2002\n",
       "284   Nake  Dietmar  00:12:51          m       k     N     8  2002\n",
       "285  Klein     Axel  00:13:32          m       k     N     8  2002\n",
       "286   Nake   Philip  00:13:32          m       k     N     8  2002"
      ]
     },
     "execution_count": 21,
     "metadata": {},
     "output_type": "execute_result"
    }
   ],
   "source": [
    "# Just change your variable\n",
    "year = 2002\n",
    "route = \"k\"\n",
    "sex = \"m\"\n",
    "top = 6\n",
    "all_in_one.filter(lambda x: (x.Jahr == year) &(x.Strecke == route) & (x.Geschlecht == sex)).head(top)"
   ]
  },
  {
   "cell_type": "markdown",
   "metadata": {},
   "source": [
    "## Record over the years for men and women"
   ]
  },
  {
   "cell_type": "code",
   "execution_count": 13,
   "metadata": {},
   "outputs": [
    {
     "data": {
      "text/html": [
       "<div>\n",
       "<style scoped>\n",
       "    .dataframe tbody tr th:only-of-type {\n",
       "        vertical-align: middle;\n",
       "    }\n",
       "\n",
       "    .dataframe tbody tr th {\n",
       "        vertical-align: top;\n",
       "    }\n",
       "\n",
       "    .dataframe thead th {\n",
       "        text-align: right;\n",
       "    }\n",
       "</style>\n",
       "<table border=\"1\" class=\"dataframe\">\n",
       "  <thead>\n",
       "    <tr style=\"text-align: right;\">\n",
       "      <th></th>\n",
       "      <th>Name</th>\n",
       "      <th>Vorname</th>\n",
       "      <th>Zeit</th>\n",
       "      <th>Geschlecht</th>\n",
       "      <th>Strecke</th>\n",
       "      <th>Route</th>\n",
       "      <th>Lauf</th>\n",
       "      <th>Jahr</th>\n",
       "    </tr>\n",
       "  </thead>\n",
       "  <tbody>\n",
       "    <tr>\n",
       "      <th>467</th>\n",
       "      <td>Hoffmann</td>\n",
       "      <td>Jens</td>\n",
       "      <td>00:18:30</td>\n",
       "      <td>m</td>\n",
       "      <td>l</td>\n",
       "      <td>R</td>\n",
       "      <td>13</td>\n",
       "      <td>2007</td>\n",
       "    </tr>\n",
       "    <tr>\n",
       "      <th>125</th>\n",
       "      <td>Päsch</td>\n",
       "      <td>Andreas</td>\n",
       "      <td>00:18:57</td>\n",
       "      <td>m</td>\n",
       "      <td>l</td>\n",
       "      <td>R</td>\n",
       "      <td>4</td>\n",
       "      <td>1998</td>\n",
       "    </tr>\n",
       "    <tr>\n",
       "      <th>468</th>\n",
       "      <td>Martin</td>\n",
       "      <td>Robert</td>\n",
       "      <td>00:20:05</td>\n",
       "      <td>m</td>\n",
       "      <td>l</td>\n",
       "      <td>R</td>\n",
       "      <td>13</td>\n",
       "      <td>2007</td>\n",
       "    </tr>\n",
       "    <tr>\n",
       "      <th>126</th>\n",
       "      <td>Bochmann</td>\n",
       "      <td>Jens</td>\n",
       "      <td>00:21:11</td>\n",
       "      <td>m</td>\n",
       "      <td>l</td>\n",
       "      <td>R</td>\n",
       "      <td>4</td>\n",
       "      <td>1998</td>\n",
       "    </tr>\n",
       "    <tr>\n",
       "      <th>127</th>\n",
       "      <td>Rahmig</td>\n",
       "      <td>Manfred</td>\n",
       "      <td>00:21:20</td>\n",
       "      <td>m</td>\n",
       "      <td>l</td>\n",
       "      <td>R</td>\n",
       "      <td>4</td>\n",
       "      <td>1998</td>\n",
       "    </tr>\n",
       "    <tr>\n",
       "      <th>469</th>\n",
       "      <td>Mehlhorn</td>\n",
       "      <td>Reiner</td>\n",
       "      <td>00:21:33</td>\n",
       "      <td>m</td>\n",
       "      <td>l</td>\n",
       "      <td>R</td>\n",
       "      <td>13</td>\n",
       "      <td>2007</td>\n",
       "    </tr>\n",
       "  </tbody>\n",
       "</table>\n",
       "</div>"
      ],
      "text/plain": [
       "          Name  Vorname      Zeit Geschlecht Strecke Route  Lauf  Jahr\n",
       "467  Hoffmann      Jens  00:18:30          m       l     R    13  2007\n",
       "125      Päsch  Andreas  00:18:57          m       l     R     4  1998\n",
       "468     Martin   Robert  00:20:05          m       l     R    13  2007\n",
       "126   Bochmann     Jens  00:21:11          m       l     R     4  1998\n",
       "127     Rahmig  Manfred  00:21:20          m       l     R     4  1998\n",
       "469   Mehlhorn   Reiner  00:21:33          m       l     R    13  2007"
      ]
     },
     "execution_count": 13,
     "metadata": {},
     "output_type": "execute_result"
    }
   ],
   "source": [
    "sex = \"m\"\n",
    "route = \"l\"\n",
    "\n",
    "stat_by_sex_and_route = df.groupby([\"Geschlecht\",\"Strecke\"])\n",
    "bestRecord = stat_by_sex_and_route.get_group((sex, route)).sort_values(by=['Zeit']).head(6)\n",
    "bestRecord"
   ]
  },
  {
   "cell_type": "markdown",
   "metadata": {},
   "source": [
    "## Personal Record"
   ]
  },
  {
   "cell_type": "code",
   "execution_count": 29,
   "metadata": {},
   "outputs": [
    {
     "name": "stdout",
     "output_type": "stream",
     "text": [
      "       Name Vorname      Zeit Geschlecht Strecke Route  Lauf  Jahr\n",
      "115  Kirsch   Karin  00:09:22          w       k     R     4  1998\n",
      "451  Kirsch   Karin  00:09:51          w       k     R    13  2007\n",
      "208  Kirsch   Karin  00:11:46          w       k     N     6  2000\n",
      "164  Kirsch   Karin  00:12:13          w       k     N     5  1999\n",
      "76   Kirsch   Karin  00:14:31          w       k     N     3  1997\n",
      "17   Kirsch   Karin  00:16:24          w       k     N     1  1995\n",
      "44   Kirsch   Karin  00:18:13          w       k     N     2  1996\n",
      "427  Kirsch   Karin  00:22:25          w       k     N    12  2006\n",
      "389  Kirsch   Karin  00:26:01          w       k     N    11  2005\n",
      "323  Kirsch   Karin  00:36:07          w       l     N     8  2002\n"
     ]
    },
    {
     "data": {
      "application/vnd.plotly.v1+json": {
       "config": {
        "linkText": "Export to plot.ly",
        "plotlyServerURL": "https://plot.ly",
        "showLink": true
       },
       "data": [
        {
         "marker": {
          "color": "rgba(255, 153, 51, 0.6)",
          "line": {
           "color": "rgba(255, 153, 51, 1.0)",
           "width": 1
          }
         },
         "name": "Zeit",
         "orientation": "v",
         "text": "",
         "type": "bar",
         "uid": "be449875-ca1a-4046-ad29-393abb16a1d5",
         "x": [
          1998,
          2007,
          2000,
          1999,
          1997,
          1995,
          1996,
          2006,
          2005,
          2002
         ],
         "y": [
          "00:09:22",
          "00:09:51",
          "00:11:46",
          "00:12:13",
          "00:14:31",
          "00:16:24",
          "00:18:13",
          "00:22:25",
          "00:26:01",
          "00:36:07"
         ]
        }
       ],
       "layout": {
        "legend": {
         "bgcolor": "#F5F6F9",
         "font": {
          "color": "#4D5663"
         }
        },
        "paper_bgcolor": "#F5F6F9",
        "plot_bgcolor": "#F5F6F9",
        "title": {
         "font": {
          "color": "#4D5663"
         },
         "text": "Personal Evolution"
        },
        "xaxis": {
         "gridcolor": "#E1E5ED",
         "showgrid": true,
         "tickfont": {
          "color": "#4D5663"
         },
         "title": {
          "font": {
           "color": "#4D5663"
          },
          "text": "Jahr"
         },
         "zerolinecolor": "#E1E5ED"
        },
        "yaxis": {
         "gridcolor": "#E1E5ED",
         "showgrid": true,
         "tickfont": {
          "color": "#4D5663"
         },
         "title": {
          "font": {
           "color": "#4D5663"
          },
          "text": "Zeit"
         },
         "zerolinecolor": "#E1E5ED"
        }
       }
      },
      "text/html": [
       "<div>\n",
       "        \n",
       "        \n",
       "            <div id=\"4129a642-bdde-4a5b-8f2a-673a47418031\" class=\"plotly-graph-div\" style=\"height:525px; width:100%;\"></div>\n",
       "            <script type=\"text/javascript\">\n",
       "                require([\"plotly\"], function(Plotly) {\n",
       "                    window.PLOTLYENV=window.PLOTLYENV || {};\n",
       "                    window.PLOTLYENV.BASE_URL='https://plot.ly';\n",
       "                    \n",
       "                if (document.getElementById(\"4129a642-bdde-4a5b-8f2a-673a47418031\")) {\n",
       "                    Plotly.newPlot(\n",
       "                        '4129a642-bdde-4a5b-8f2a-673a47418031',\n",
       "                        [{\"marker\": {\"color\": \"rgba(255, 153, 51, 0.6)\", \"line\": {\"color\": \"rgba(255, 153, 51, 1.0)\", \"width\": 1}}, \"name\": \"Zeit\", \"orientation\": \"v\", \"text\": \"\", \"type\": \"bar\", \"uid\": \"be449875-ca1a-4046-ad29-393abb16a1d5\", \"x\": [1998, 2007, 2000, 1999, 1997, 1995, 1996, 2006, 2005, 2002], \"y\": [\"00:09:22\", \"00:09:51\", \"00:11:46\", \"00:12:13\", \"00:14:31\", \"00:16:24\", \"00:18:13\", \"00:22:25\", \"00:26:01\", \"00:36:07\"]}],\n",
       "                        {\"legend\": {\"bgcolor\": \"#F5F6F9\", \"font\": {\"color\": \"#4D5663\"}}, \"paper_bgcolor\": \"#F5F6F9\", \"plot_bgcolor\": \"#F5F6F9\", \"title\": {\"font\": {\"color\": \"#4D5663\"}, \"text\": \"Personal Evolution\"}, \"xaxis\": {\"gridcolor\": \"#E1E5ED\", \"showgrid\": true, \"tickfont\": {\"color\": \"#4D5663\"}, \"title\": {\"font\": {\"color\": \"#4D5663\"}, \"text\": \"Jahr\"}, \"zerolinecolor\": \"#E1E5ED\"}, \"yaxis\": {\"gridcolor\": \"#E1E5ED\", \"showgrid\": true, \"tickfont\": {\"color\": \"#4D5663\"}, \"title\": {\"font\": {\"color\": \"#4D5663\"}, \"text\": \"Zeit\"}, \"zerolinecolor\": \"#E1E5ED\"}},\n",
       "                        {\"showLink\": true, \"linkText\": \"Export to plot.ly\", \"plotlyServerURL\": \"https://plot.ly\", \"responsive\": true}\n",
       "                    ).then(function(){\n",
       "                            \n",
       "var gd = document.getElementById('4129a642-bdde-4a5b-8f2a-673a47418031');\n",
       "var x = new MutationObserver(function (mutations, observer) {{\n",
       "        var display = window.getComputedStyle(gd).display;\n",
       "        if (!display || display === 'none') {{\n",
       "            console.log([gd, 'removed!']);\n",
       "            Plotly.purge(gd);\n",
       "            observer.disconnect();\n",
       "        }}\n",
       "}});\n",
       "\n",
       "// Listen for the removal of the full notebook cells\n",
       "var notebookContainer = gd.closest('#notebook-container');\n",
       "if (notebookContainer) {{\n",
       "    x.observe(notebookContainer, {childList: true});\n",
       "}}\n",
       "\n",
       "// Listen for the clearing of the current output cell\n",
       "var outputEl = gd.closest('.output');\n",
       "if (outputEl) {{\n",
       "    x.observe(outputEl, {childList: true});\n",
       "}}\n",
       "\n",
       "                        })\n",
       "                };\n",
       "                });\n",
       "            </script>\n",
       "        </div>"
      ]
     },
     "metadata": {},
     "output_type": "display_data"
    }
   ],
   "source": [
    "# group by name, firstname and Year of participation\n",
    "participant = (\"Kirsch\",\"Karin\")\n",
    "grouped_by_participant = df.groupby([\"Name\", \"Vorname\"])\n",
    "person = grouped_by_participant.get_group(participant).sort_values(by=['Zeit'])\n",
    "print(person)\n",
    "person.iplot(kind=\"bar\", x=\"Jahr\", y=\"Zeit\",  xTitle='Jahr', yTitle='Zeit', title='Personal Evolution')"
   ]
  },
  {
   "cell_type": "code",
   "execution_count": null,
   "metadata": {},
   "outputs": [],
   "source": []
  }
 ],
 "metadata": {
  "kernelspec": {
   "display_name": "Python 3",
   "language": "python",
   "name": "python3"
  },
  "language_info": {
   "codemirror_mode": {
    "name": "ipython",
    "version": 3
   },
   "file_extension": ".py",
   "mimetype": "text/x-python",
   "name": "python",
   "nbconvert_exporter": "python",
   "pygments_lexer": "ipython3",
   "version": "3.6.7"
  }
 },
 "nbformat": 4,
 "nbformat_minor": 2
}
